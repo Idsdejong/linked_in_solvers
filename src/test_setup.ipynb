{
 "cells": [
  {
   "cell_type": "markdown",
   "metadata": {},
   "source": [
    "Test pytorch + CUDA"
   ]
  },
  {
   "cell_type": "code",
   "execution_count": 1,
   "metadata": {},
   "outputs": [
    {
     "name": "stdout",
     "output_type": "stream",
     "text": [
      "🔥 PyTorch version: 2.9.0+cu126\n",
      "💻 CUDA available: True\n",
      "🧠 GPU device: NVIDIA GeForce RTX 3070\n",
      "CUDA version: 12.6\n"
     ]
    }
   ],
   "source": [
    "import torch\n",
    "\n",
    "print(\"🔥 PyTorch version:\", torch.__version__)\n",
    "print(\"💻 CUDA available:\", torch.cuda.is_available())\n",
    "\n",
    "if torch.cuda.is_available():\n",
    "    print(\"🧠 GPU device:\", torch.cuda.get_device_name(0))\n",
    "    print(\"CUDA version:\", torch.version.cuda)\n",
    "else:\n",
    "    print(\"⚠️ Running on CPU only.\")"
   ]
  },
  {
   "cell_type": "markdown",
   "metadata": {},
   "source": [
    "Test YOLO"
   ]
  },
  {
   "cell_type": "code",
   "execution_count": 3,
   "metadata": {},
   "outputs": [
    {
     "name": "stdout",
     "output_type": "stream",
     "text": [
      "✅ Ultralytics YOLO installed successfully!\n",
      "\n",
      "Found https://ultralytics.com/images/bus.jpg locally at bus.jpg\n",
      "image 1/1 c:\\Users\\idske\\Documents\\Programmeren\\Python\\Cheats\\linked_in_solvers\\src\\bus.jpg: 640x480 4 persons, 1 bus, 1 stop sign, 25.2ms\n",
      "Speed: 2.6ms preprocess, 25.2ms inference, 5.5ms postprocess per image at shape (1, 3, 640, 480)\n",
      "🚀 Inference successful!\n"
     ]
    }
   ],
   "source": [
    "from ultralytics import YOLO\n",
    "\n",
    "print(\"✅ Ultralytics YOLO installed successfully!\")\n",
    "\n",
    "# Load a model (this downloads weights if missing)\n",
    "model = YOLO(\"yolov8n.pt\")\n",
    "\n",
    "# Run a quick test on an image\n",
    "results = model.predict(source=\"https://ultralytics.com/images/bus.jpg\", show=False)\n",
    "print(\"🚀 Inference successful!\")"
   ]
  }
 ],
 "metadata": {
  "kernelspec": {
   "display_name": ".venv",
   "language": "python",
   "name": "python3"
  },
  "language_info": {
   "codemirror_mode": {
    "name": "ipython",
    "version": 3
   },
   "file_extension": ".py",
   "mimetype": "text/x-python",
   "name": "python",
   "nbconvert_exporter": "python",
   "pygments_lexer": "ipython3",
   "version": "3.10.11"
  }
 },
 "nbformat": 4,
 "nbformat_minor": 2
}
